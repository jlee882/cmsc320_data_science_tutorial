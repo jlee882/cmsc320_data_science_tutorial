{
 "cells": [
  {
   "cell_type": "markdown",
   "id": "d459f1a9-ceee-4151-bb5e-6c341c636b66",
   "metadata": {},
   "source": [
    "# Title\n",
    "\\[insert intro + motivation\\]"
   ]
  },
  {
   "cell_type": "code",
   "execution_count": null,
   "id": "3e319376-9918-4b7d-8dd1-b42481bdb4c5",
   "metadata": {},
   "outputs": [],
   "source": [
    "import sqlite3\n",
    "import pandas as pd\n",
    "import folium"
   ]
  },
  {
   "cell_type": "markdown",
   "id": "4faa45c8-bafa-4557-9312-d7c0e761a8c6",
   "metadata": {},
   "source": [
    "## Importing Data\n"
   ]
  },
  {
   "cell_type": "code",
   "execution_count": 2,
   "id": "8a62d7e4",
   "metadata": {},
   "outputs": [
    {
     "name": "stdout",
     "output_type": "stream",
     "text": [
      "[('station',), ('status',), ('trip',), ('weather',)]\n"
     ]
    }
   ],
   "source": [
    "# tables are [('station',), ('status',), ('trip',), ('weather',)]\n",
    "con = sqlite3.connect(\"database.sqlite\")\n",
    "\n",
    "# get tables\n",
    "sql_query = \"SELECT name FROM sqlite_master WHERE type='table';\"\n",
    "cursor = con.cursor()\n",
    "cursor.execute(sql_query)\n",
    "print(cursor.fetchall())"
   ]
  },
  {
   "cell_type": "code",
   "execution_count": 3,
   "id": "ead8de4e",
   "metadata": {},
   "outputs": [],
   "source": [
    "station = pd.read_sql_query(\"SELECT * from station\", con)\n",
    "status = pd.read_sql_query(\"SELECT * from status\", con)\n",
    "trip = pd.read_sql_query(\"SELECT * from trip\", con)\n",
    "weather = pd.read_sql_query(\"SELECT * from weather\", con)"
   ]
  },
  {
   "cell_type": "code",
   "execution_count": 4,
   "id": "1d953285",
   "metadata": {},
   "outputs": [
    {
     "ename": "NameError",
     "evalue": "name 'status' is not defined",
     "output_type": "error",
     "traceback": [
      "\u001b[0;31m---------------------------------------------------------------------------\u001b[0m",
      "\u001b[0;31mNameError\u001b[0m                                 Traceback (most recent call last)",
      "Input \u001b[0;32mIn [4]\u001b[0m, in \u001b[0;36m<module>\u001b[0;34m\u001b[0m\n\u001b[1;32m      1\u001b[0m \u001b[38;5;66;03m# Columns in each table\u001b[39;00m\n\u001b[1;32m      2\u001b[0m station \u001b[38;5;66;03m# id, name, lat, long, dock_count, city, installation_date\u001b[39;00m\n\u001b[0;32m----> 3\u001b[0m \u001b[43mstatus\u001b[49m \u001b[38;5;66;03m# station_id, bikes_available, docks_available, time\u001b[39;00m\n\u001b[1;32m      4\u001b[0m trip \n\u001b[1;32m      5\u001b[0m \u001b[38;5;124;03m\"\"\"(['id', 'duration', 'start_date', 'start_station_name',\u001b[39;00m\n\u001b[1;32m      6\u001b[0m \u001b[38;5;124;03m       'start_station_id', 'end_date', 'end_station_name', 'end_station_id',\u001b[39;00m\n\u001b[1;32m      7\u001b[0m \u001b[38;5;124;03m       'bike_id', 'subscription_type', 'zip_code'],\u001b[39;00m\n\u001b[1;32m      8\u001b[0m \u001b[38;5;124;03m      dtype='object')\"\"\"\u001b[39;00m\n",
      "\u001b[0;31mNameError\u001b[0m: name 'status' is not defined"
     ]
    }
   ],
   "source": [
    "# Columns in each table\n",
    "station # id, name, lat, long, dock_count, city, installation_date\n",
    "status # station_id, bikes_available, docks_available, time\n",
    "trip \n",
    "\"\"\"(['id', 'duration', 'start_date', 'start_station_name',\n",
    "       'start_station_id', 'end_date', 'end_station_name', 'end_station_id',\n",
    "       'bike_id', 'subscription_type', 'zip_code'],\n",
    "      dtype='object')\"\"\"\n",
    "weather \n",
    "\"\"\" (['date', 'max_temperature_f', 'mean_temperature_f', 'min_temperature_f',\n",
    "       'max_dew_point_f', 'mean_dew_point_f', 'min_dew_point_f',\n",
    "       'max_humidity', 'mean_humidity', 'min_humidity',\n",
    "       'max_sea_level_pressure_inches', 'mean_sea_level_pressure_inches',\n",
    "       'min_sea_level_pressure_inches', 'max_visibility_miles',\n",
    "       'mean_visibility_miles', 'min_visibility_miles', 'max_wind_Speed_mph',\n",
    "       'mean_wind_speed_mph', 'max_gust_speed_mph', 'precipitation_inches',\n",
    "       'cloud_cover', 'events', 'wind_dir_degrees', 'zip_code'],\n",
    "      dtype='object')\"\"\"\n",
    "\n",
    "status\n"
   ]
  },
  {
   "cell_type": "markdown",
   "id": "9d889560-5615-4c4e-864d-57934efc769f",
   "metadata": {},
   "source": [
    "## Data Cleaning and Manipulation (reword me)"
   ]
  },
  {
   "cell_type": "code",
   "execution_count": null,
   "id": "4322cdab",
   "metadata": {},
   "outputs": [],
   "source": [
    "# mark all the stations\n",
    "map_osm = folium.Map(location=[37.60, -122.29], zoom_start=10)\n",
    "\n",
    "for index, station_info in station.iterrows():\n",
    "    tooltip_text = station_info['name'] + \"\\n\"\n",
    "    folium.Marker(location=[station_info[\"lat\"], station_info[\"long\"]], tooltip=tooltip_text).add_to(map_osm)\n",
    "    \n",
    "map_osm"
   ]
  },
  {
   "cell_type": "code",
   "execution_count": null,
   "id": "b1c0decd",
   "metadata": {},
   "outputs": [],
   "source": [
    "# Convert time from object to datetime and remove seconds\n",
    "status[\"time\"] = pd.to_datetime(status[\"time\"]).dt.floor('Min')\n",
    "status.head()"
   ]
  },
  {
   "cell_type": "markdown",
   "id": "41392093-1b4f-4bd6-b36e-f5451b87a8f3",
   "metadata": {},
   "source": [
    "## Data Exploration"
   ]
  },
  {
   "cell_type": "code",
   "execution_count": null,
   "id": "5ca20034",
   "metadata": {},
   "outputs": [],
   "source": []
  },
  {
   "cell_type": "markdown",
   "id": "ab9f47f8-39a5-441a-80ee-a9f52c8fe9ab",
   "metadata": {},
   "source": [
    "## Data Analysis and Hypothesis Testing"
   ]
  },
  {
   "cell_type": "code",
   "execution_count": null,
   "id": "bfb202cb-287b-41dd-adc7-438d32ca6aac",
   "metadata": {},
   "outputs": [],
   "source": []
  },
  {
   "cell_type": "markdown",
   "id": "a30e6240-b701-47f6-be6d-6ea8c08dc0a4",
   "metadata": {},
   "source": [
    "## Predicting [something] with Machine Learning"
   ]
  },
  {
   "cell_type": "code",
   "execution_count": null,
   "id": "fb93ca25-d77a-4f2b-9f98-faa8f04c0a28",
   "metadata": {},
   "outputs": [],
   "source": []
  },
  {
   "cell_type": "markdown",
   "id": "bca9603a-c2ab-4a86-bbaf-a2b631ba6159",
   "metadata": {},
   "source": [
    "## Conclusion"
   ]
  },
  {
   "cell_type": "code",
   "execution_count": null,
   "id": "7a19c094-f4d2-4cbb-9a03-9e2e5651f977",
   "metadata": {},
   "outputs": [],
   "source": []
  }
 ],
 "metadata": {
  "kernelspec": {
   "display_name": "Python 3 (ipykernel)",
   "language": "python",
   "name": "python3"
  },
  "language_info": {
   "codemirror_mode": {
    "name": "ipython",
    "version": 3
   },
   "file_extension": ".py",
   "mimetype": "text/x-python",
   "name": "python",
   "nbconvert_exporter": "python",
   "pygments_lexer": "ipython3",
   "version": "3.9.7"
  }
 },
 "nbformat": 4,
 "nbformat_minor": 5
}
